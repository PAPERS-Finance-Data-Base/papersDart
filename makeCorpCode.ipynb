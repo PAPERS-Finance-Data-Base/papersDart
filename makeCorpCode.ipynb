{
 "cells": [
  {
   "cell_type": "code",
   "execution_count": null,
   "id": "e736390d-06a2-4a36-88ff-4ceeb74076b2",
   "metadata": {},
   "outputs": [],
   "source": [
    "import zipfile\n",
    "import xml.etree.ElementTree as ET\n",
    "import requests\n",
    "import io\n",
    "import pandas as pd\n",
    "API_KEY = ''"
   ]
  },
  {
   "cell_type": "code",
   "execution_count": 2,
   "id": "775f4f15-6c83-4df3-90ca-02652fc9e86c",
   "metadata": {},
   "outputs": [],
   "source": [
    "\n",
    "\n",
    "URL = f'https://opendart.fss.or.kr/api/corpCode.xml?crtfc_key={API_KEY}'\n",
    "\n",
    "# 1. 다운로드\n",
    "res = requests.get(URL)\n",
    "with zipfile.ZipFile(io.BytesIO(res.content)) as z:\n",
    "    with z.open('CORPCODE.xml') as xml_file:\n",
    "        # 2. 빠르게 파싱\n",
    "        data = []\n",
    "        for event, elem in ET.iterparse(xml_file, events=('end',)):\n",
    "            if elem.tag == 'list':\n",
    "                stock_code = elem.find('stock_code').text\n",
    "                if stock_code:  # 상장기업만\n",
    "                    data.append({\n",
    "                        'corp_code': elem.find('corp_code').text,\n",
    "                        'corp_name': elem.find('corp_name').text,\n",
    "                        'stock_code': stock_code,\n",
    "                        'modify_date': elem.find('modify_date').text\n",
    "                    })\n",
    "                elem.clear()\n",
    "\n",
    "# 3. 저장\n",
    "df = pd.DataFrame(data)\n",
    "df.to_csv('상장기업_corp_code.csv', index=False)"
   ]
  },
  {
   "cell_type": "code",
   "execution_count": 8,
   "id": "86764a9f-3a1a-4b0c-b523-1f292a3ec045",
   "metadata": {},
   "outputs": [
    {
     "name": "stdout",
     "output_type": "stream",
     "text": [
      "남은 행 수: 3853\n"
     ]
    }
   ],
   "source": [
    "# 1. CSV 불러오기\n",
    "df = pd.read_csv('상장기업_corp_code.csv')\n",
    "\n",
    "# 2. stock_code가 비어있는 행 제거 (NaN 또는 빈 문자열)\n",
    "df = df[df['stock_code'].notna()]  # NaN 제거\n",
    "df = df[df['stock_code'].astype(str).str.strip() != '']  # 공백 제거\n",
    "\n",
    "# 3. 결과 확인 (선택)\n",
    "print(f\"남은 행 수: {len(df)}\")\n",
    "\n",
    "# 4. 저장\n",
    "df.to_csv('상장기업_corp_code_필터링.csv', index=False)"
   ]
  },
  {
   "cell_type": "code",
   "execution_count": 20,
   "id": "f1fac9fd-15b3-4e68-8794-4421036d0711",
   "metadata": {},
   "outputs": [
    {
     "name": "stdout",
     "output_type": "stream",
     "text": [
      "{'message': '잘못된 URL입니다. 확인해주세요(/api/search.json)', 'status': '101'}\n"
     ]
    }
   ],
   "source": [
    "# 상장폐지 관련 공시 검색\n",
    "url = f'http://opendart.fss.or.kr/api/search.json?crtfc_key={API_KEY}&bgn_de=20200101&end_de=20231231&report_nm=상장폐지'\n",
    "response = requests.get(url)\n",
    "data = response.json()\n",
    "print(data)"
   ]
  },
  {
   "cell_type": "code",
   "execution_count": null,
   "id": "6997b0f5-8eb3-4316-ace3-30fdabfe3a4d",
   "metadata": {},
   "outputs": [],
   "source": [
    "import pandas as pd\n",
    "\n",
    "# CSV 파일 불러오기\n",
    "df = pd.read_csv('stock_corp_code.csv')\n",
    "\n",
    "# 상장폐지된 기업의 stock_code 리스트\n",
    "delisted_stock_codes = ['005930', '000660', '035420', ...]  # 상장폐지된 주식 코드들\n",
    "\n",
    "# 상장폐지된 기업 제외하기\n",
    "df_cleaned = df[~df['stock_code'].isin(delisted_stock_codes)]\n",
    "\n",
    "# 결과를 새로운 CSV 파일로 저장\n",
    "df_cleaned.to_csv('cleaned_file.csv', index=False)"
   ]
  }
 ],
 "metadata": {
  "kernelspec": {
   "display_name": "Python [conda env:base] *",
   "language": "python",
   "name": "conda-base-py"
  },
  "language_info": {
   "codemirror_mode": {
    "name": "ipython",
    "version": 3
   },
   "file_extension": ".py",
   "mimetype": "text/x-python",
   "name": "python",
   "nbconvert_exporter": "python",
   "pygments_lexer": "ipython3",
   "version": "3.12.7"
  }
 },
 "nbformat": 4,
 "nbformat_minor": 5
}
