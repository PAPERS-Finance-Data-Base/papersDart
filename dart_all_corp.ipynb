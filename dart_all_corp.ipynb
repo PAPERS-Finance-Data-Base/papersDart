{
 "cells": [
  {
   "cell_type": "code",
   "execution_count": null,
   "id": "7fcf99b8-9d04-4d9e-bfec-311d26ee1cd7",
   "metadata": {},
   "outputs": [],
   "source": [
    "import pandas as pd\n",
    "from datetime import datetime, timedelta\n",
    "import OpenDartReader as ODR\n",
    "from datetime import datetime, timedelta\n",
    "from dotenv import load_dotenv\n",
    "import os\n",
    "load_dotenv()\n",
    "api_key = os.getenv('DART_API_KEY') #api키 숨기기\n",
    "dart = ODR(api_key)"
   ]
  },
  {
   "cell_type": "code",
   "execution_count": null,
   "id": "2df37672-0256-4948-8131-a8959ea884b4",
   "metadata": {},
   "outputs": [],
   "source": [
    "#목적연도 설정\n",
    "target_year = 2018\n",
    "start_year = end_year = target_year\n",
    "csv_path = f'{target_year}.csv'"
   ]
  },
  {
   "cell_type": "code",
   "execution_count": null,
   "id": "02ca0af2-421e-4aa8-a7c3-356b434edc2d",
   "metadata": {},
   "outputs": [],
   "source": [
    "#초기 csv 헤더설정\n",
    "init = True\n",
    "#데이터 읽어오기\n",
    "df = pd.read_csv('stock_corp_code.csv', dtype=str)\n",
    "# stock_code → 항상 6자리\n",
    "df['stock_code'] = df['stock_code'].str.zfill(6)\n",
    "# corp_code → 항상 8자리\n",
    "df['corp_code'] = df['corp_code'].str.zfill(8)\n",
    "# 필요 컬럼만 선택해서 리스트로 변환\n",
    "corp_code_list = df[['corp_code', 'corp_name']].dropna().values.tolist()\n",
    "corp_code_list[:5]"
   ]
  },
  {
   "cell_type": "code",
   "execution_count": null,
   "id": "c9b35100-9806-4bc5-a450-d07336128787",
   "metadata": {},
   "outputs": [],
   "source": [
    "#사업보고서 종류 설정\n",
    "report_codes = {\n",
    "    '11011': '사업보고서',\n",
    "    '11012': '반기보고서',\n",
    "    '11013': '1분기보고서',\n",
    "    '11014': '3분기보고서'\n",
    "}"
   ]
  },
  {
   "cell_type": "code",
   "execution_count": 42,
   "id": "8dbc4e42-be12-41b1-b44c-7412726867cd",
   "metadata": {},
   "outputs": [
    {
     "name": "stdout",
     "output_type": "stream",
     "text": [
      "reprt_code='11011', fs_div='CFS' (사업보고서, 연결제무제표)'\n",
      "reprt_code='11012', fs_div='CFS' (반기보고서, 연결제무제표)'\n",
      "reprt_code='11013', fs_div='CFS' (1분기보고서, 연결제무제표)'\n",
      "reprt_code='11014', fs_div='CFS' (3분기보고서, 연결제무제표)'\n"
     ]
    }
   ],
   "source": [
    "for corp_code, corp_name in corp_code_list:\n",
    "    for year in range(start_year, end_year + 1):\n",
    "        for reprt_code, report_name in report_codes.items():\n",
    "            try:\n",
    "                df = dart.finstate_all(corp=corp_code, bsns_year=year, reprt_code=reprt_code)\n",
    "                if df.empty:\n",
    "                    continue\n",
    "\n",
    "                # 메타정보 추가\n",
    "                df['corp_code'] = corp_code\n",
    "                df['corp_name'] = corp_name\n",
    "                df['bsns_year'] = year\n",
    "                df['reprt_code'] = reprt_code\n",
    "                df['report_name'] = report_name\n",
    "\n",
    "                # 저장\n",
    "                if init:\n",
    "                    df.to_csv(csv_path, index=False, mode='w', encoding='utf-8-sig')\n",
    "                    init = False\n",
    "                else:\n",
    "                    df.to_csv(csv_path, index=False, mode='a', header=False, encoding='utf-8-sig')\n",
    "\n",
    "            except Exception as e:\n",
    "                print(f\"{e}\")\n",
    "                continue"
   ]
  }
 ],
 "metadata": {
  "kernelspec": {
   "display_name": "Python [conda env:base] *",
   "language": "python",
   "name": "conda-base-py"
  },
  "language_info": {
   "codemirror_mode": {
    "name": "ipython",
    "version": 3
   },
   "file_extension": ".py",
   "mimetype": "text/x-python",
   "name": "python",
   "nbconvert_exporter": "python",
   "pygments_lexer": "ipython3",
   "version": "3.12.7"
  }
 },
 "nbformat": 4,
 "nbformat_minor": 5
}
